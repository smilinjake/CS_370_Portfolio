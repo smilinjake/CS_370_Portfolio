{
 "cells": [
  {
   "cell_type": "markdown",
   "metadata": {},
   "source": [
    "# Treasure Hunt Game Notebook\n",
    "\n",
    "## Read and Review Your Starter Code\n",
    "The theme of this project is a popular treasure hunt game in which the player needs to find the treasure before the pirate does. While you will not be developing the entire game, you will write the part of the game that represents the intelligent agent, which is a pirate in this case. The pirate will try to find the optimal path to the treasure using deep Q-learning. \n",
    "\n",
    "You have been provided with two Python classes and this notebook to help you with this assignment. The first class, <b>TreasureMaze.py</b>, represents the environment, which includes a maze object defined as a matrix. The second class, <b>GameExperience.py</b>, stores the episodes – that is, all the states that come in between the initial state and the terminal state. This is later used by the agent for learning by experience, called \"exploration\". This notebook shows how to play a game. Your task is to complete the deep Q-learning implementation in the qtrain() function for which a skeleton implementation has been provided. \n",
    "\n",
    "The code block you will need to complete has <b>#TODO</b> as a header.\n",
    "\n",
    "First, read and review the next few code and instruction blocks to understand the code that you have been given."
   ]
  },
  {
   "cell_type": "markdown",
   "metadata": {},
   "source": [
    "<div class=\"alert alert-block alert-warning\" style=\"color: #333333;\">\n",
    "<b>Installations</b> The following command will install the necessary Python libraries to necessary to run this application. If you see a \"[notice] A new release of pip is available: 23.1.2 -> 25.2\" at the end of the installation, you may disregard that statement. \n",
    "</div>"
   ]
  },
  {
   "cell_type": "code",
   "execution_count": 1,
   "metadata": {
    "scrolled": true
   },
   "outputs": [
    {
     "name": "stdout",
     "output_type": "stream",
     "text": [
      "Requirement already satisfied: numpy==1.26.4 in /home/codio/.pyenv/versions/3.11.2/lib/python3.11/site-packages (from -r requirements.txt (line 1)) (1.26.4)\n",
      "Requirement already satisfied: keras in /home/codio/.pyenv/versions/3.11.2/lib/python3.11/site-packages (from -r requirements.txt (line 2)) (3.11.3)\n",
      "Requirement already satisfied: tensorflow==2.19.0 in /home/codio/.pyenv/versions/3.11.2/lib/python3.11/site-packages (from -r requirements.txt (line 3)) (2.19.0)\n",
      "Requirement already satisfied: absl-py>=1.0.0 in /home/codio/.pyenv/versions/3.11.2/lib/python3.11/site-packages (from tensorflow==2.19.0->-r requirements.txt (line 3)) (2.3.1)\n",
      "Requirement already satisfied: astunparse>=1.6.0 in /home/codio/.pyenv/versions/3.11.2/lib/python3.11/site-packages (from tensorflow==2.19.0->-r requirements.txt (line 3)) (1.6.3)\n",
      "Requirement already satisfied: flatbuffers>=24.3.25 in /home/codio/.pyenv/versions/3.11.2/lib/python3.11/site-packages (from tensorflow==2.19.0->-r requirements.txt (line 3)) (25.9.23)\n",
      "Requirement already satisfied: gast!=0.5.0,!=0.5.1,!=0.5.2,>=0.2.1 in /home/codio/.pyenv/versions/3.11.2/lib/python3.11/site-packages (from tensorflow==2.19.0->-r requirements.txt (line 3)) (0.6.0)\n",
      "Requirement already satisfied: google-pasta>=0.1.1 in /home/codio/.pyenv/versions/3.11.2/lib/python3.11/site-packages (from tensorflow==2.19.0->-r requirements.txt (line 3)) (0.2.0)\n",
      "Requirement already satisfied: libclang>=13.0.0 in /home/codio/.pyenv/versions/3.11.2/lib/python3.11/site-packages (from tensorflow==2.19.0->-r requirements.txt (line 3)) (18.1.1)\n",
      "Requirement already satisfied: opt-einsum>=2.3.2 in /home/codio/.pyenv/versions/3.11.2/lib/python3.11/site-packages (from tensorflow==2.19.0->-r requirements.txt (line 3)) (3.4.0)\n",
      "Requirement already satisfied: packaging in /home/codio/.pyenv/versions/3.11.2/lib/python3.11/site-packages (from tensorflow==2.19.0->-r requirements.txt (line 3)) (23.0)\n",
      "Requirement already satisfied: protobuf!=4.21.0,!=4.21.1,!=4.21.2,!=4.21.3,!=4.21.4,!=4.21.5,<6.0.0dev,>=3.20.3 in /home/codio/.pyenv/versions/3.11.2/lib/python3.11/site-packages (from tensorflow==2.19.0->-r requirements.txt (line 3)) (5.29.5)\n",
      "Requirement already satisfied: requests<3,>=2.21.0 in /home/codio/.pyenv/versions/3.11.2/lib/python3.11/site-packages (from tensorflow==2.19.0->-r requirements.txt (line 3)) (2.30.0)\n",
      "Requirement already satisfied: setuptools in /home/codio/.pyenv/versions/3.11.2/lib/python3.11/site-packages (from tensorflow==2.19.0->-r requirements.txt (line 3)) (65.5.0)\n",
      "Requirement already satisfied: six>=1.12.0 in /home/codio/.pyenv/versions/3.11.2/lib/python3.11/site-packages (from tensorflow==2.19.0->-r requirements.txt (line 3)) (1.16.0)\n",
      "Requirement already satisfied: termcolor>=1.1.0 in /home/codio/.pyenv/versions/3.11.2/lib/python3.11/site-packages (from tensorflow==2.19.0->-r requirements.txt (line 3)) (3.1.0)\n",
      "Requirement already satisfied: typing-extensions>=3.6.6 in /home/codio/.pyenv/versions/3.11.2/lib/python3.11/site-packages (from tensorflow==2.19.0->-r requirements.txt (line 3)) (4.15.0)\n",
      "Requirement already satisfied: wrapt>=1.11.0 in /home/codio/.pyenv/versions/3.11.2/lib/python3.11/site-packages (from tensorflow==2.19.0->-r requirements.txt (line 3)) (1.17.3)\n",
      "Requirement already satisfied: grpcio<2.0,>=1.24.3 in /home/codio/.pyenv/versions/3.11.2/lib/python3.11/site-packages (from tensorflow==2.19.0->-r requirements.txt (line 3)) (1.75.1)\n",
      "Requirement already satisfied: tensorboard~=2.19.0 in /home/codio/.pyenv/versions/3.11.2/lib/python3.11/site-packages (from tensorflow==2.19.0->-r requirements.txt (line 3)) (2.19.0)\n",
      "Requirement already satisfied: h5py>=3.11.0 in /home/codio/.pyenv/versions/3.11.2/lib/python3.11/site-packages (from tensorflow==2.19.0->-r requirements.txt (line 3)) (3.14.0)\n",
      "Requirement already satisfied: ml-dtypes<1.0.0,>=0.5.1 in /home/codio/.pyenv/versions/3.11.2/lib/python3.11/site-packages (from tensorflow==2.19.0->-r requirements.txt (line 3)) (0.5.3)\n",
      "Requirement already satisfied: tensorflow-io-gcs-filesystem>=0.23.1 in /home/codio/.pyenv/versions/3.11.2/lib/python3.11/site-packages (from tensorflow==2.19.0->-r requirements.txt (line 3)) (0.37.1)\n",
      "Requirement already satisfied: rich in /home/codio/.pyenv/versions/3.11.2/lib/python3.11/site-packages (from keras->-r requirements.txt (line 2)) (14.1.0)\n",
      "Requirement already satisfied: namex in /home/codio/.pyenv/versions/3.11.2/lib/python3.11/site-packages (from keras->-r requirements.txt (line 2)) (0.1.0)\n",
      "Requirement already satisfied: optree in /home/codio/.pyenv/versions/3.11.2/lib/python3.11/site-packages (from keras->-r requirements.txt (line 2)) (0.17.0)\n",
      "Requirement already satisfied: wheel<1.0,>=0.23.0 in /home/codio/.pyenv/versions/3.11.2/lib/python3.11/site-packages (from astunparse>=1.6.0->tensorflow==2.19.0->-r requirements.txt (line 3)) (0.45.1)\n",
      "Requirement already satisfied: charset-normalizer<4,>=2 in /home/codio/.pyenv/versions/3.11.2/lib/python3.11/site-packages (from requests<3,>=2.21.0->tensorflow==2.19.0->-r requirements.txt (line 3)) (2.1.1)\n",
      "Requirement already satisfied: idna<4,>=2.5 in /home/codio/.pyenv/versions/3.11.2/lib/python3.11/site-packages (from requests<3,>=2.21.0->tensorflow==2.19.0->-r requirements.txt (line 3)) (3.4)\n",
      "Requirement already satisfied: urllib3<3,>=1.21.1 in /home/codio/.pyenv/versions/3.11.2/lib/python3.11/site-packages (from requests<3,>=2.21.0->tensorflow==2.19.0->-r requirements.txt (line 3)) (2.0.2)\n",
      "Requirement already satisfied: certifi>=2017.4.17 in /home/codio/.pyenv/versions/3.11.2/lib/python3.11/site-packages (from requests<3,>=2.21.0->tensorflow==2.19.0->-r requirements.txt (line 3)) (2023.5.7)\n",
      "Requirement already satisfied: markdown>=2.6.8 in /home/codio/.pyenv/versions/3.11.2/lib/python3.11/site-packages (from tensorboard~=2.19.0->tensorflow==2.19.0->-r requirements.txt (line 3)) (3.9)\n",
      "Requirement already satisfied: tensorboard-data-server<0.8.0,>=0.7.0 in /home/codio/.pyenv/versions/3.11.2/lib/python3.11/site-packages (from tensorboard~=2.19.0->tensorflow==2.19.0->-r requirements.txt (line 3)) (0.7.2)\n",
      "Requirement already satisfied: werkzeug>=1.0.1 in /home/codio/.pyenv/versions/3.11.2/lib/python3.11/site-packages (from tensorboard~=2.19.0->tensorflow==2.19.0->-r requirements.txt (line 3)) (2.0.0)\n",
      "Requirement already satisfied: markdown-it-py>=2.2.0 in /home/codio/.pyenv/versions/3.11.2/lib/python3.11/site-packages (from rich->keras->-r requirements.txt (line 2)) (4.0.0)\n",
      "Requirement already satisfied: pygments<3.0.0,>=2.13.0 in /home/codio/.pyenv/versions/3.11.2/lib/python3.11/site-packages (from rich->keras->-r requirements.txt (line 2)) (2.15.1)\n",
      "Requirement already satisfied: mdurl~=0.1 in /home/codio/.pyenv/versions/3.11.2/lib/python3.11/site-packages (from markdown-it-py>=2.2.0->rich->keras->-r requirements.txt (line 2)) (0.1.2)\n",
      "\n",
      "\u001b[1m[\u001b[0m\u001b[34;49mnotice\u001b[0m\u001b[1;39;49m]\u001b[0m\u001b[39;49m A new release of pip is available: \u001b[0m\u001b[31;49m23.1.2\u001b[0m\u001b[39;49m -> \u001b[0m\u001b[32;49m25.2\u001b[0m\n",
      "\u001b[1m[\u001b[0m\u001b[34;49mnotice\u001b[0m\u001b[1;39;49m]\u001b[0m\u001b[39;49m To update, run: \u001b[0m\u001b[32;49mpip install --upgrade pip\u001b[0m\n"
     ]
    }
   ],
   "source": [
    "!pip install -r requirements.txt"
   ]
  },
  {
   "cell_type": "markdown",
   "metadata": {},
   "source": [
    "<h2>Tensorflow CPU Acceleration Warning</h2>\n",
    "<div class=\"alert alert-block alert-danger\" style=\"color: #333333;\">\n",
    "    You will see a <b>warning in red</b> \"oneDNN custom operations are on. You may see slightly different numerical results due to floating-point round-off errors from different computation orders\". This is simply coming from <b>Tensorflow to accelerate computations on CPU.</b>  \n",
    "</div>"
   ]
  },
  {
   "cell_type": "code",
   "execution_count": 3,
   "metadata": {},
   "outputs": [],
   "source": [
    "from __future__ import print_function\n",
    "import os, sys, time, datetime, json, random\n",
    "import numpy as np\n",
    "import tensorflow as tf\n",
    "from tensorflow.keras.models import clone_model\n",
    "from keras.models import Sequential\n",
    "from keras.layers import Dense, Activation, PReLU\n",
    "from keras.optimizers import SGD , Adam, RMSprop\n",
    "import matplotlib.pyplot as plt\n",
    "from TreasureMaze import TreasureMaze\n",
    "from GameExperience import GameExperience\n",
    "%matplotlib inline"
   ]
  },
  {
   "cell_type": "markdown",
   "metadata": {},
   "source": [
    "<h2> Maze Object Generation</h2>\n",
    "\n",
    "The following code block contains an 8x8 matrix that will be used as a maze object:"
   ]
  },
  {
   "cell_type": "code",
   "execution_count": 4,
   "metadata": {},
   "outputs": [],
   "source": [
    "maze = np.array([\n",
    "    [ 1.,  0.,  1.,  1.,  1.,  1.,  1.,  1.],\n",
    "    [ 1.,  0.,  1.,  1.,  1.,  0.,  1.,  1.],\n",
    "    [ 1.,  1.,  1.,  1.,  0.,  1.,  0.,  1.],\n",
    "    [ 1.,  1.,  1.,  0.,  1.,  1.,  1.,  1.],\n",
    "    [ 1.,  1.,  0.,  1.,  1.,  1.,  1.,  1.],\n",
    "    [ 1.,  1.,  1.,  0.,  1.,  0.,  0.,  0.],\n",
    "    [ 1.,  1.,  1.,  0.,  1.,  1.,  1.,  1.],\n",
    "    [ 1.,  1.,  1.,  1.,  0.,  1.,  1.,  1.]\n",
    "])"
   ]
  },
  {
   "cell_type": "markdown",
   "metadata": {},
   "source": [
    "<h2>Helper Functions and Global Variables</h2>\n",
    "\n",
    "This <b>show()</b> helper function allows a visual representation of the maze object:"
   ]
  },
  {
   "cell_type": "code",
   "execution_count": 5,
   "metadata": {},
   "outputs": [],
   "source": [
    "def show(qmaze):\n",
    "    plt.grid('on')\n",
    "    nrows, ncols = qmaze.maze.shape\n",
    "    ax = plt.gca()\n",
    "    ax.set_xticks(np.arange(0.5, nrows, 1))\n",
    "    ax.set_yticks(np.arange(0.5, ncols, 1))\n",
    "    ax.set_xticklabels([])\n",
    "    ax.set_yticklabels([])\n",
    "    canvas = np.copy(qmaze.maze)\n",
    "    for row,col in qmaze.visited:\n",
    "        canvas[row,col] = 0.6\n",
    "    pirate_row, pirate_col, _ = qmaze.state\n",
    "    canvas[pirate_row, pirate_col] = 0.3   # pirate cell\n",
    "    canvas[nrows-1, ncols-1] = 0.9 # treasure cell\n",
    "    img = plt.imshow(canvas, interpolation='none', cmap='gray')\n",
    "    return img"
   ]
  },
  {
   "cell_type": "markdown",
   "metadata": {},
   "source": [
    "The <b>pirate agent</b> can move in four directions: left, right, up, and down. \n",
    "\n",
    "While the agent primarily learns by experience through exploitation, often, the agent can choose to explore the environment to find previously undiscovered paths. This is called \"exploration\" and is defined by epsilon. This value is the EXPLORATION values from the Cartpole assignment. The hyperparameters are provided here and used in the qtrain() method. \n",
    "You are encouraged to try various values for the exploration factor and see how the algorithm performs."
   ]
  },
  {
   "cell_type": "code",
   "execution_count": 43,
   "metadata": {},
   "outputs": [],
   "source": [
    "LEFT = 0\n",
    "UP = 1\n",
    "RIGHT = 2\n",
    "DOWN = 3\n",
    "\n",
    "\n",
    "# Exploration factor\n",
    "epsilon = 1.0\n",
    "epsilon_min = 0.05\n",
    "epsilon_decay = 0.990\n",
    "patience = 10\n",
    "\n",
    "# Actions dictionary\n",
    "actions_dict = {\n",
    "    LEFT: 'left',\n",
    "    UP: 'up',\n",
    "    RIGHT: 'right',\n",
    "    DOWN: 'down',\n",
    "}\n",
    "\n",
    "num_actions = len(actions_dict)\n"
   ]
  },
  {
   "cell_type": "markdown",
   "metadata": {},
   "source": [
    "The sample code block and output below show creating a maze object and performing one action (DOWN), which returns the reward. The resulting updated environment is visualized."
   ]
  },
  {
   "cell_type": "code",
   "execution_count": 44,
   "metadata": {},
   "outputs": [
    {
     "name": "stdout",
     "output_type": "stream",
     "text": [
      "reward= -0.04\n"
     ]
    },
    {
     "data": {
      "text/plain": [
       "<matplotlib.image.AxesImage at 0x7d698c1a7e50>"
      ]
     },
     "execution_count": 44,
     "metadata": {},
     "output_type": "execute_result"
    },
    {
     "data": {
      "image/png": "[encoded data removed]",
      "text/plain": [
       "<Figure size 640x480 with 1 Axes>"
      ]
     },
     "metadata": {},
     "output_type": "display_data"
    }
   ],
   "source": [
    "qmaze = TreasureMaze(maze)\n",
    "canvas, reward, game_over = qmaze.act(DOWN)\n",
    "print(\"reward=\", reward)\n",
    "show(qmaze)"
   ]
  },
  {
   "cell_type": "markdown",
   "metadata": {},
   "source": [
    "This <b>play_game()</b> function simulates a full game based on the provided trained model. The other parameters include the TreasureMaze object, the starting position of the pirate and max amount of steps to make sure the code does not get stuck in a loop."
   ]
  },
  {
   "cell_type": "code",
   "execution_count": 45,
   "metadata": {},
   "outputs": [],
   "source": [
    "def play_game(model, qmaze, pirate_cell, max_steps=None):\n",
    "    qmaze.reset(pirate_cell)\n",
    "    envstate = qmaze.observe()\n",
    "    steps = 0\n",
    "    if max_steps is None:\n",
    "        max_steps = qmaze.maze.size * 4  # safety cutoff\n",
    "\n",
    "    while steps < max_steps:\n",
    "        state = np.asarray(envstate, dtype=np.float32)\n",
    "        if state.ndim == 1:\n",
    "            state = np.expand_dims(state, axis=0)\n",
    "\n",
    "        q_values = model(state, training=False).numpy()\n",
    "        action = np.argmax(q_values[0])\n",
    "\n",
    "        envstate, reward, game_status = qmaze.act(action)\n",
    "        steps += 1\n",
    "\n",
    "        if game_status == 'win':\n",
    "            return True\n",
    "        elif game_status == 'lose':\n",
    "            return False\n",
    "\n",
    "    return False  # timed out with no result"
   ]
  },
  {
   "cell_type": "markdown",
   "metadata": {},
   "source": [
    "This <b>completion_check()</b> function helps you to determine whether the pirate can win any game at all. If your maze is not well designed, the pirate may not win any game at all. In this case, your training would not yield any result. The provided maze in this notebook ensures that there is a path to win and you can run this method to check."
   ]
  },
  {
   "cell_type": "code",
   "execution_count": 46,
   "metadata": {},
   "outputs": [],
   "source": [
    "def completion_check(model, maze_or_qmaze, max_steps=None):\n",
    "    # Accept either raw numpy maze or TreasureMaze instance\n",
    "    if isinstance(maze_or_qmaze, TreasureMaze):\n",
    "        qmaze = maze_or_qmaze\n",
    "    else:\n",
    "        qmaze = TreasureMaze(maze_or_qmaze)\n",
    "\n",
    "    for cell in qmaze.free_cells:\n",
    "        if not qmaze.valid_actions(cell):\n",
    "            continue\n",
    "        if not play_game(model, qmaze, cell, max_steps=max_steps):\n",
    "            return False\n",
    "    return True"
   ]
  },
  {
   "cell_type": "markdown",
   "metadata": {},
   "source": [
    "The <b>build_model()</b> function in the block below will build the neural network model. Review the code and note the number of layers, as well as the activation, optimizer, and loss functions that are used to train the model."
   ]
  },
  {
   "cell_type": "code",
   "execution_count": 47,
   "metadata": {},
   "outputs": [],
   "source": [
    "def build_model(maze):\n",
    "    model = Sequential()\n",
    "    model.add(Dense(maze.size, input_shape=(maze.size,)))\n",
    "    model.add(PReLU())\n",
    "    model.add(Dense(maze.size))\n",
    "    model.add(PReLU())\n",
    "    model.add(Dense(num_actions))\n",
    "    model.compile(optimizer='adam', loss='mse')\n",
    "    return model"
   ]
  },
  {
   "cell_type": "markdown",
   "metadata": {},
   "source": [
    "This <b>train_step()</b> helper function in the block below is used to help predict Q-values (quality values) in the current modelto see how good each action is in a given state and improve the Q-network by reducing the gap between what is predicted and what should have been predicted. \n",
    "\n",
    "If you're interested in reading up on the <i>@tf.function</i>, which is a decorator for Tensorflow to run this code into a TensorFlow computation graph, please refer to this link: https://www.tensorflow.org/guide/intro_to_graphs\n",
    "\n"
   ]
  },
  {
   "cell_type": "markdown",
   "metadata": {},
   "source": [
    "<h2>Tensorflow GPU Warning</h2>\n",
    "<div class=\"alert alert-block alert-danger\" style=\"color: #333333;\">\n",
    "    You will see a <b>warning in red</b> \"INTERNAL: CUDA Runtime error: Failed call to cudaGetRuntimeVersion: Error loading CUDA libraries. GPU will not be used.\". This is simply coming from <b>Tensorflow skipping using GPU for this assignment.</b>  \n",
    " </div>"
   ]
  },
  {
   "cell_type": "code",
   "execution_count": 48,
   "metadata": {},
   "outputs": [],
   "source": [
    "loss_fn = tf.keras.losses.MeanSquaredError()\n",
    "optimizer = tf.keras.optimizers.Adam()\n",
    "\n",
    "@tf.function\n",
    "def train_step(x, y):\n",
    "    with tf.GradientTape() as tape:\n",
    "        q_values = model(x, training=True)\n",
    "        loss = loss_fn(y, q_values)\n",
    "    grads = tape.gradient(loss, model.trainable_variables)\n",
    "    optimizer.apply_gradients(zip(grads, model.trainable_variables))\n",
    "    return loss"
   ]
  },
  {
   "cell_type": "markdown",
   "metadata": {},
   "source": [
    "# #TODO: Complete the Q-Training Algorithm Code Block\n",
    "\n",
    "This is your deep Q-learning implementation. The goal of your deep Q-learning implementation is to find the best possible navigation sequence that results in reaching the treasure cell while maximizing the reward. In your implementation, you need to determine the optimal number of epochs to achieve a 100% win rate.\n",
    "\n",
    "    Pseudocode:\n",
    "    For each epoch:\n",
    "        Reset the environment at a random starting cell\n",
    "        agent_cell = randomly select a free cell\n",
    "        Hint: Review the reset method in the TreasureMaze.py class.\n",
    "    \n",
    "        Set the initial environment state\n",
    "        env_state should reference the environment's current state\n",
    "        Hint: Review the observe method in the TreasureMaze.py class.\n",
    "\n",
    "        While game status is not game over:\n",
    "           previous_envstate = env_state\n",
    "            Decide on an action:\n",
    "                - If possible, take a random valid exploration action and \n",
    "                  randomly choose action (left, right, up, down)\n",
    "                  and assign it to an action variable\n",
    "                - Else, pick the best exploitation action from the model and assign it to an action variable\n",
    "                  Hint: Review the predict method in the GameExperience.py class.\n",
    "    \n",
    "           Retrieve the values below from the act() method.\n",
    "           env_state, reward, game_status = qmaze.act(action)\n",
    "           Hint: Review the act method in the TreasureMaze.py class.\n",
    "    \n",
    "            Track the wins and losses from the game_status using win_history \n",
    "         \n",
    "           Store the episode below in the Experience replay object\n",
    "           episode = [previous_envstate, action, reward, envstate, game_status]\n",
    "           Hint: Review the remember method in the GameExperience.py class.\n",
    "        \n",
    "           Train neural network model and evaluate loss\n",
    "           Hint: Call GameExperience.get_data to retrieve training data (input and target) \n",
    "           and pass to the train_step method and assign it to batch_loss and append to the loss variable\n",
    "        \n",
    "      If the win rate is above the threshold and your model passes the completion check, that would be your epoch.\n",
    "\n",
    "Note: A 100% win rate <b>DOES NOT EXPLICITLY MEAN</b> that you have solved the maze. It simply indicates that during the last evaluation, the pirate <i>happened</i> to get to the treasure. Be sure to utilise the <b>completion_check()</b> function to validate your pirate found the treasure at every starting point and consistently! \n",
    "\n",
    "<b> You will need to complete the section starting with #START_HERE. Please use the pseudocode above as guidance. </b>\n",
    "\n",
    "\n"
   ]
  },
  {
   "cell_type": "code",
   "execution_count": 49,
   "metadata": {},
   "outputs": [],
   "source": [
    "def qtrain(model, maze, **opt):\n",
    "    # exploration factor\n",
    "    global epsilon \n",
    "    \n",
    "    # Number of epochs\n",
    "    n_epoch = opt.get('n_epoch', 15000)\n",
    "    \n",
    "    # Maximum meory to store episodes\n",
    "    max_memory = opt.get('max_memory', 1000)\n",
    "    \n",
    "    # Maximum data size for training\n",
    "    data_size = opt.get('data_size', 50)\n",
    "    \n",
    "    # Frequency of target network updates\n",
    "    target_update_freq = opt.get('target_update_freq', 50)\n",
    "    \n",
    "    # Start time\n",
    "    start_time = datetime.datetime.now()\n",
    "    \n",
    "    # Construct environment/game from numpy array: maze (see argument above)\n",
    "    qmaze = TreasureMaze(maze)\n",
    "    \n",
    "    # Target Network to better guide training\n",
    "    target_model = clone_model(model)\n",
    "    target_model.set_weights(model.get_weights())\n",
    "    \n",
    "    # Initialize experience replay object\n",
    "    experience = GameExperience(model, target_model, max_memory=max_memory)\n",
    "\n",
    "    win_history = [] # history of win/lose game\n",
    "    hsize = qmaze.maze.size // 2 #history window size\n",
    "    win_rate = 0.0\n",
    "  \n",
    "    # START_HERE\n",
    "    for epoch in range(n_epoch):  \n",
    "        agent_cell = random.choice(qmaze.free_cells) # randomly selects a free cell\n",
    "        qmaze.reset(agent_cell) # resetting the maze around the agent\n",
    "        \n",
    "        # Setting the environment state\n",
    "        env_state = qmaze.observe() \n",
    "        \n",
    "        \n",
    "        # bool flag for game over\n",
    "        game_over = False  \n",
    "        \n",
    "        n_episodes = 0 # Initializing the number of episodes\n",
    "        loss = 0.0 # initializing losses\n",
    "        \n",
    "        while not game_over:\n",
    "            previous_envstate = env_state\n",
    "            # we need to know where we can legally move before we decide where to move\n",
    "            legal_action = qmaze.valid_actions() \n",
    "            \n",
    "            if np.random.rand() < epsilon: \n",
    "                action = random.choice(legal_action) # exploration\n",
    "            else: \n",
    "                action = np.argmax(experience.predict(previous_envstate)) # exploitation\n",
    "            \n",
    "            env_state, reward, game_status = qmaze.act(action) \n",
    "            episode = [previous_envstate, action, reward, env_state, game_status]\n",
    "            n_episodes += 1\n",
    "            experience.remember(episode) # remembering the episode\n",
    "            \n",
    "            if game_status == 'win':\n",
    "                win_history.append(1)\n",
    "                game_over = True \n",
    "            elif game_status == 'lose':\n",
    "                win_history.append(0)\n",
    "                game_over = True\n",
    "            \n",
    "           \n",
    "            \n",
    "            inputs, targets = experience.get_data(data_size)\n",
    "            loss = train_step(inputs, targets)\n",
    "            \n",
    "                \n",
    "        # Win rate over last hsize steps \n",
    "        win_rate = sum(win_history[-hsize:]) / hsize if len(win_history) >= hsize else 0.0\n",
    "\n",
    "        # Print the epoch, loss, episode, win count, win rate, and time for each epoch\n",
    "        dt = datetime.datetime.now() - start_time\n",
    "        t = format_time(dt.total_seconds())\n",
    "        print(\"Epoch: {:03d}/{:d} | Loss: {:.4f} | Episodes: {:d} | Win count: {:d} | Win rate: {:.3f} | time: {}\".format(\n",
    "            epoch, n_epoch-1, loss, n_episodes, sum(win_history), win_rate, t))\n",
    "\n",
    "        # Check if training has exhausted all free cells and if in all\n",
    "        # cases the agent won\n",
    "        if win_rate > 0.9:\n",
    "            epsilon = 0.05\n",
    "        else:\n",
    "            epsilon = max(epsilon * epsilon_decay, epsilon_min)\n",
    "    \n",
    "        if win_rate >= 0.999 and completion_check(model, maze):\n",
    "            print(f\"Reached 100% win rate at epoch {epoch}\")\n",
    "            break\n",
    "\n",
    "    total_time = format_time((datetime.datetime.now() - start_time).total_seconds())\n",
    "    print(\"Training complete in:\", total_time)\n",
    "\n",
    "\n",
    "# This is a small utility for printing readable time strings:\n",
    "def format_time(seconds):\n",
    "    if seconds < 400:\n",
    "        s = float(seconds)\n",
    "        return \"%.1f seconds\" % (s,)\n",
    "    elif seconds < 4000:\n",
    "        m = seconds / 60.0\n",
    "        return \"%.2f minutes\" % (m,)\n",
    "    else:\n",
    "        h = seconds / 3600.0\n",
    "        return \"%.2f hours\" % (h,)"
   ]
  },
  {
   "cell_type": "markdown",
   "metadata": {},
   "source": [
    "## Test Your Model\n",
    "\n",
    "Now we will start testing the deep Q-learning implementation. To begin, select **Cell**, then **Run All** from the menu bar. This will run your notebook. As it runs, you should see output begin to appear beneath the next few cells. The code below creates an <b>instance</b> of TreasureMaze. This does not show your actual training done."
   ]
  },
  {
   "cell_type": "code",
   "execution_count": 50,
   "metadata": {},
   "outputs": [
    {
     "data": {
      "text/plain": [
       "<matplotlib.image.AxesImage at 0x7d6964843590>"
      ]
     },
     "execution_count": 50,
     "metadata": {},
     "output_type": "execute_result"
    },
    {
     "data": {
      "image/png": "[encoded data removed]",
      "text/plain": [
       "<Figure size 640x480 with 1 Axes>"
      ]
     },
     "metadata": {},
     "output_type": "display_data"
    }
   ],
   "source": [
    "qmaze = TreasureMaze(maze)\n",
    "show(qmaze)"
   ]
  },
  {
   "cell_type": "markdown",
   "metadata": {},
   "source": [
    "In the next code block, you will build your model using the <b>build_model</b> function and train it using deep Q-learning. Note: This step takes several minutes to fully run.\n",
    "\n"
   ]
  },
  {
   "cell_type": "markdown",
   "metadata": {},
   "source": [
    "<div class=\"alert alert-block alert-danger\" style=\"color: #333333;\">\n",
    "    If you did not attempt the assignment, the code <b>will</b> error out at this section.\n",
    " </div>"
   ]
  },
  {
   "cell_type": "code",
   "execution_count": 51,
   "metadata": {
    "scrolled": true
   },
   "outputs": [
    {
     "name": "stdout",
     "output_type": "stream",
     "text": [
      "Epoch: 000/999 | Loss: 0.0020 | Episodes: 108 | Win count: 1 | Win rate: 0.000 | time: 11.2 seconds\n",
      "Epoch: 001/999 | Loss: 0.0264 | Episodes: 12 | Win count: 2 | Win rate: 0.000 | time: 12.0 seconds\n",
      "Epoch: 002/999 | Loss: 0.0032 | Episodes: 6 | Win count: 3 | Win rate: 0.000 | time: 12.5 seconds\n",
      "Epoch: 003/999 | Loss: 0.0029 | Episodes: 23 | Win count: 4 | Win rate: 0.000 | time: 14.1 seconds\n",
      "Epoch: 004/999 | Loss: 0.0022 | Episodes: 150 | Win count: 4 | Win rate: 0.000 | time: 22.2 seconds\n",
      "Epoch: 005/999 | Loss: 0.0049 | Episodes: 102 | Win count: 5 | Win rate: 0.000 | time: 28.9 seconds\n",
      "Epoch: 006/999 | Loss: 0.0028 | Episodes: 87 | Win count: 6 | Win rate: 0.000 | time: 34.9 seconds\n",
      "Epoch: 007/999 | Loss: 0.0019 | Episodes: 102 | Win count: 7 | Win rate: 0.000 | time: 41.2 seconds\n",
      "Epoch: 008/999 | Loss: 0.0084 | Episodes: 141 | Win count: 7 | Win rate: 0.000 | time: 49.2 seconds\n",
      "Epoch: 009/999 | Loss: 0.0089 | Episodes: 149 | Win count: 7 | Win rate: 0.000 | time: 57.9 seconds\n",
      "Epoch: 010/999 | Loss: 0.0012 | Episodes: 141 | Win count: 7 | Win rate: 0.000 | time: 65.5 seconds\n",
      "Epoch: 011/999 | Loss: 0.0012 | Episodes: 148 | Win count: 7 | Win rate: 0.000 | time: 73.1 seconds\n",
      "Epoch: 012/999 | Loss: 0.0013 | Episodes: 141 | Win count: 7 | Win rate: 0.000 | time: 80.3 seconds\n",
      "Epoch: 013/999 | Loss: 0.0004 | Episodes: 5 | Win count: 8 | Win rate: 0.000 | time: 80.5 seconds\n",
      "Epoch: 014/999 | Loss: 0.0109 | Episodes: 23 | Win count: 9 | Win rate: 0.000 | time: 81.8 seconds\n",
      "Epoch: 015/999 | Loss: 0.0023 | Episodes: 56 | Win count: 10 | Win rate: 0.000 | time: 85.0 seconds\n",
      "Epoch: 016/999 | Loss: 0.0018 | Episodes: 144 | Win count: 10 | Win rate: 0.000 | time: 94.1 seconds\n",
      "Epoch: 017/999 | Loss: 0.0016 | Episodes: 142 | Win count: 10 | Win rate: 0.000 | time: 102.3 seconds\n",
      "Epoch: 018/999 | Loss: 0.0018 | Episodes: 145 | Win count: 10 | Win rate: 0.000 | time: 112.5 seconds\n",
      "Epoch: 019/999 | Loss: 0.0016 | Episodes: 147 | Win count: 10 | Win rate: 0.000 | time: 121.9 seconds\n",
      "Epoch: 020/999 | Loss: 0.0015 | Episodes: 19 | Win count: 11 | Win rate: 0.000 | time: 123.1 seconds\n",
      "Epoch: 021/999 | Loss: 0.0023 | Episodes: 159 | Win count: 11 | Win rate: 0.000 | time: 134.5 seconds\n",
      "Epoch: 022/999 | Loss: 0.0019 | Episodes: 77 | Win count: 12 | Win rate: 0.000 | time: 140.4 seconds\n",
      "Epoch: 023/999 | Loss: 0.0007 | Episodes: 139 | Win count: 12 | Win rate: 0.000 | time: 149.6 seconds\n",
      "Epoch: 024/999 | Loss: 0.0015 | Episodes: 150 | Win count: 12 | Win rate: 0.000 | time: 160.2 seconds\n",
      "Epoch: 025/999 | Loss: 0.0007 | Episodes: 151 | Win count: 12 | Win rate: 0.000 | time: 170.2 seconds\n",
      "Epoch: 026/999 | Loss: 0.0017 | Episodes: 3 | Win count: 13 | Win rate: 0.000 | time: 170.4 seconds\n",
      "Epoch: 027/999 | Loss: 0.0010 | Episodes: 146 | Win count: 13 | Win rate: 0.000 | time: 181.1 seconds\n",
      "Epoch: 028/999 | Loss: 0.0020 | Episodes: 133 | Win count: 14 | Win rate: 0.000 | time: 191.0 seconds\n",
      "Epoch: 029/999 | Loss: 0.0016 | Episodes: 139 | Win count: 14 | Win rate: 0.000 | time: 200.2 seconds\n",
      "Epoch: 030/999 | Loss: 0.0006 | Episodes: 6 | Win count: 15 | Win rate: 0.000 | time: 200.6 seconds\n",
      "Epoch: 031/999 | Loss: 0.0027 | Episodes: 163 | Win count: 15 | Win rate: 0.469 | time: 213.9 seconds\n",
      "Epoch: 032/999 | Loss: 0.0079 | Episodes: 142 | Win count: 15 | Win rate: 0.438 | time: 224.1 seconds\n",
      "Epoch: 033/999 | Loss: 0.0010 | Episodes: 91 | Win count: 16 | Win rate: 0.438 | time: 230.4 seconds\n",
      "Epoch: 034/999 | Loss: 0.0018 | Episodes: 23 | Win count: 17 | Win rate: 0.438 | time: 232.0 seconds\n",
      "Epoch: 035/999 | Loss: 0.0012 | Episodes: 142 | Win count: 17 | Win rate: 0.406 | time: 242.4 seconds\n",
      "Epoch: 036/999 | Loss: 0.0016 | Episodes: 139 | Win count: 17 | Win rate: 0.406 | time: 254.0 seconds\n",
      "Epoch: 037/999 | Loss: 0.0006 | Episodes: 145 | Win count: 17 | Win rate: 0.375 | time: 264.9 seconds\n",
      "Epoch: 038/999 | Loss: 0.0005 | Episodes: 149 | Win count: 17 | Win rate: 0.344 | time: 275.4 seconds\n",
      "Epoch: 039/999 | Loss: 0.0043 | Episodes: 8 | Win count: 18 | Win rate: 0.344 | time: 275.9 seconds\n",
      "Epoch: 040/999 | Loss: 0.0020 | Episodes: 143 | Win count: 18 | Win rate: 0.344 | time: 286.2 seconds\n",
      "Epoch: 041/999 | Loss: 0.0016 | Episodes: 156 | Win count: 18 | Win rate: 0.344 | time: 299.6 seconds\n",
      "Epoch: 042/999 | Loss: 0.0019 | Episodes: 155 | Win count: 18 | Win rate: 0.344 | time: 310.4 seconds\n",
      "Epoch: 043/999 | Loss: 0.0007 | Episodes: 150 | Win count: 18 | Win rate: 0.344 | time: 321.0 seconds\n",
      "Epoch: 044/999 | Loss: 0.0008 | Episodes: 144 | Win count: 18 | Win rate: 0.344 | time: 331.2 seconds\n",
      "Epoch: 045/999 | Loss: 0.0017 | Episodes: 28 | Win count: 19 | Win rate: 0.344 | time: 333.2 seconds\n",
      "Epoch: 046/999 | Loss: 0.0024 | Episodes: 148 | Win count: 19 | Win rate: 0.312 | time: 342.4 seconds\n",
      "Epoch: 047/999 | Loss: 0.0024 | Episodes: 150 | Win count: 19 | Win rate: 0.281 | time: 351.5 seconds\n",
      "Epoch: 048/999 | Loss: 0.0020 | Episodes: 144 | Win count: 19 | Win rate: 0.281 | time: 360.3 seconds\n",
      "Epoch: 049/999 | Loss: 0.0016 | Episodes: 37 | Win count: 20 | Win rate: 0.312 | time: 362.4 seconds\n",
      "Epoch: 050/999 | Loss: 0.0015 | Episodes: 73 | Win count: 21 | Win rate: 0.344 | time: 366.5 seconds\n",
      "Epoch: 051/999 | Loss: 0.0110 | Episodes: 3 | Win count: 22 | Win rate: 0.375 | time: 366.6 seconds\n",
      "Epoch: 052/999 | Loss: 0.0013 | Episodes: 149 | Win count: 22 | Win rate: 0.344 | time: 374.9 seconds\n",
      "Epoch: 053/999 | Loss: 0.0010 | Episodes: 150 | Win count: 22 | Win rate: 0.344 | time: 383.2 seconds\n",
      "Epoch: 054/999 | Loss: 0.0018 | Episodes: 155 | Win count: 22 | Win rate: 0.312 | time: 393.4 seconds\n",
      "Epoch: 055/999 | Loss: 0.0020 | Episodes: 155 | Win count: 22 | Win rate: 0.312 | time: 6.69 minutes\n",
      "Epoch: 056/999 | Loss: 0.0013 | Episodes: 146 | Win count: 22 | Win rate: 0.312 | time: 6.85 minutes\n",
      "Epoch: 057/999 | Loss: 0.0014 | Episodes: 126 | Win count: 23 | Win rate: 0.344 | time: 6.98 minutes\n",
      "Epoch: 058/999 | Loss: 0.0017 | Episodes: 1 | Win count: 24 | Win rate: 0.344 | time: 6.98 minutes\n",
      "Epoch: 059/999 | Loss: 0.0009 | Episodes: 143 | Win count: 24 | Win rate: 0.344 | time: 7.15 minutes\n",
      "Epoch: 060/999 | Loss: 0.0006 | Episodes: 46 | Win count: 25 | Win rate: 0.344 | time: 7.20 minutes\n",
      "Epoch: 061/999 | Loss: 0.0016 | Episodes: 156 | Win count: 26 | Win rate: 0.375 | time: 7.34 minutes\n",
      "Epoch: 062/999 | Loss: 0.0012 | Episodes: 99 | Win count: 27 | Win rate: 0.375 | time: 7.45 minutes\n",
      "Epoch: 063/999 | Loss: 0.0020 | Episodes: 125 | Win count: 28 | Win rate: 0.406 | time: 7.58 minutes\n",
      "Epoch: 064/999 | Loss: 0.0019 | Episodes: 109 | Win count: 29 | Win rate: 0.438 | time: 7.69 minutes\n",
      "Epoch: 065/999 | Loss: 0.0017 | Episodes: 88 | Win count: 30 | Win rate: 0.438 | time: 7.79 minutes\n",
      "Epoch: 066/999 | Loss: 0.0016 | Episodes: 57 | Win count: 31 | Win rate: 0.438 | time: 7.85 minutes\n",
      "Epoch: 067/999 | Loss: 0.0020 | Episodes: 123 | Win count: 32 | Win rate: 0.469 | time: 7.98 minutes\n",
      "Epoch: 068/999 | Loss: 0.0021 | Episodes: 109 | Win count: 33 | Win rate: 0.500 | time: 8.10 minutes\n",
      "Epoch: 069/999 | Loss: 0.0019 | Episodes: 29 | Win count: 34 | Win rate: 0.531 | time: 8.13 minutes\n",
      "Epoch: 070/999 | Loss: 0.0022 | Episodes: 22 | Win count: 35 | Win rate: 0.562 | time: 8.16 minutes\n",
      "Epoch: 071/999 | Loss: 0.0019 | Episodes: 71 | Win count: 36 | Win rate: 0.562 | time: 8.24 minutes\n",
      "Epoch: 072/999 | Loss: 0.0036 | Episodes: 140 | Win count: 36 | Win rate: 0.562 | time: 8.39 minutes\n",
      "Epoch: 073/999 | Loss: 0.0018 | Episodes: 30 | Win count: 37 | Win rate: 0.594 | time: 8.42 minutes\n",
      "Epoch: 074/999 | Loss: 0.0020 | Episodes: 96 | Win count: 38 | Win rate: 0.625 | time: 8.53 minutes\n",
      "Epoch: 075/999 | Loss: 0.0015 | Episodes: 143 | Win count: 38 | Win rate: 0.625 | time: 8.71 minutes\n",
      "Epoch: 076/999 | Loss: 0.0019 | Episodes: 12 | Win count: 39 | Win rate: 0.656 | time: 8.72 minutes\n",
      "Epoch: 077/999 | Loss: 0.0015 | Episodes: 13 | Win count: 40 | Win rate: 0.656 | time: 8.74 minutes\n",
      "Epoch: 078/999 | Loss: 0.0022 | Episodes: 111 | Win count: 41 | Win rate: 0.688 | time: 8.86 minutes\n",
      "Epoch: 079/999 | Loss: 0.0009 | Episodes: 2 | Win count: 42 | Win rate: 0.719 | time: 8.86 minutes\n",
      "Epoch: 080/999 | Loss: 0.0016 | Episodes: 22 | Win count: 43 | Win rate: 0.750 | time: 8.88 minutes\n",
      "Epoch: 081/999 | Loss: 0.0014 | Episodes: 94 | Win count: 44 | Win rate: 0.750 | time: 8.98 minutes\n"
     ]
    },
    {
     "name": "stdout",
     "output_type": "stream",
     "text": [
      "Epoch: 082/999 | Loss: 0.0019 | Episodes: 9 | Win count: 45 | Win rate: 0.750 | time: 8.99 minutes\n",
      "Epoch: 083/999 | Loss: 0.0019 | Episodes: 83 | Win count: 46 | Win rate: 0.750 | time: 9.08 minutes\n",
      "Epoch: 084/999 | Loss: 0.0014 | Episodes: 10 | Win count: 47 | Win rate: 0.781 | time: 9.10 minutes\n",
      "Epoch: 085/999 | Loss: 0.0009 | Episodes: 112 | Win count: 48 | Win rate: 0.812 | time: 9.22 minutes\n",
      "Epoch: 086/999 | Loss: 0.0016 | Episodes: 4 | Win count: 49 | Win rate: 0.844 | time: 9.23 minutes\n",
      "Epoch: 087/999 | Loss: 0.0025 | Episodes: 9 | Win count: 50 | Win rate: 0.875 | time: 9.24 minutes\n",
      "Epoch: 088/999 | Loss: 0.0018 | Episodes: 137 | Win count: 50 | Win rate: 0.875 | time: 9.39 minutes\n",
      "Epoch: 089/999 | Loss: 0.0017 | Episodes: 9 | Win count: 51 | Win rate: 0.875 | time: 9.40 minutes\n",
      "Epoch: 090/999 | Loss: 0.0015 | Episodes: 11 | Win count: 52 | Win rate: 0.875 | time: 9.41 minutes\n",
      "Epoch: 091/999 | Loss: 0.0017 | Episodes: 30 | Win count: 53 | Win rate: 0.906 | time: 9.44 minutes\n",
      "Epoch: 092/999 | Loss: 0.0016 | Episodes: 7 | Win count: 54 | Win rate: 0.906 | time: 9.45 minutes\n",
      "Epoch: 093/999 | Loss: 0.0017 | Episodes: 19 | Win count: 55 | Win rate: 0.906 | time: 9.47 minutes\n",
      "Epoch: 094/999 | Loss: 0.0014 | Episodes: 59 | Win count: 56 | Win rate: 0.906 | time: 9.55 minutes\n",
      "Epoch: 095/999 | Loss: 0.0017 | Episodes: 5 | Win count: 57 | Win rate: 0.906 | time: 9.55 minutes\n",
      "Epoch: 096/999 | Loss: 0.0012 | Episodes: 10 | Win count: 58 | Win rate: 0.906 | time: 9.57 minutes\n",
      "Epoch: 097/999 | Loss: 0.0019 | Episodes: 1 | Win count: 59 | Win rate: 0.906 | time: 9.57 minutes\n",
      "Epoch: 098/999 | Loss: 0.0012 | Episodes: 25 | Win count: 60 | Win rate: 0.906 | time: 9.60 minutes\n",
      "Epoch: 099/999 | Loss: 0.0013 | Episodes: 117 | Win count: 61 | Win rate: 0.906 | time: 9.75 minutes\n",
      "Epoch: 100/999 | Loss: 0.0014 | Episodes: 12 | Win count: 62 | Win rate: 0.906 | time: 9.76 minutes\n",
      "Epoch: 101/999 | Loss: 0.0025 | Episodes: 25 | Win count: 63 | Win rate: 0.906 | time: 9.79 minutes\n",
      "Epoch: 102/999 | Loss: 0.0011 | Episodes: 34 | Win count: 64 | Win rate: 0.906 | time: 9.83 minutes\n",
      "Epoch: 103/999 | Loss: 0.0014 | Episodes: 72 | Win count: 65 | Win rate: 0.906 | time: 9.91 minutes\n",
      "Epoch: 104/999 | Loss: 0.0016 | Episodes: 6 | Win count: 66 | Win rate: 0.938 | time: 9.92 minutes\n",
      "Epoch: 105/999 | Loss: 0.0011 | Episodes: 49 | Win count: 67 | Win rate: 0.938 | time: 9.98 minutes\n",
      "Epoch: 106/999 | Loss: 0.0012 | Episodes: 88 | Win count: 68 | Win rate: 0.938 | time: 10.08 minutes\n",
      "Epoch: 107/999 | Loss: 0.0013 | Episodes: 148 | Win count: 68 | Win rate: 0.938 | time: 10.24 minutes\n",
      "Epoch: 108/999 | Loss: 0.0008 | Episodes: 139 | Win count: 68 | Win rate: 0.906 | time: 10.40 minutes\n",
      "Epoch: 109/999 | Loss: 0.0019 | Episodes: 28 | Win count: 69 | Win rate: 0.906 | time: 10.44 minutes\n",
      "Epoch: 110/999 | Loss: 0.0011 | Episodes: 61 | Win count: 70 | Win rate: 0.906 | time: 10.51 minutes\n",
      "Epoch: 111/999 | Loss: 0.0010 | Episodes: 6 | Win count: 71 | Win rate: 0.906 | time: 10.52 minutes\n",
      "Epoch: 112/999 | Loss: 0.0012 | Episodes: 13 | Win count: 72 | Win rate: 0.906 | time: 10.53 minutes\n",
      "Epoch: 113/999 | Loss: 0.0008 | Episodes: 22 | Win count: 73 | Win rate: 0.906 | time: 10.56 minutes\n",
      "Epoch: 114/999 | Loss: 0.0006 | Episodes: 26 | Win count: 74 | Win rate: 0.906 | time: 10.60 minutes\n",
      "Epoch: 115/999 | Loss: 0.0011 | Episodes: 14 | Win count: 75 | Win rate: 0.906 | time: 10.61 minutes\n",
      "Epoch: 116/999 | Loss: 0.0017 | Episodes: 48 | Win count: 76 | Win rate: 0.906 | time: 10.66 minutes\n",
      "Epoch: 117/999 | Loss: 0.0014 | Episodes: 74 | Win count: 77 | Win rate: 0.906 | time: 10.75 minutes\n",
      "Epoch: 118/999 | Loss: 0.0012 | Episodes: 31 | Win count: 78 | Win rate: 0.906 | time: 10.78 minutes\n",
      "Epoch: 119/999 | Loss: 0.0014 | Episodes: 10 | Win count: 79 | Win rate: 0.906 | time: 10.79 minutes\n",
      "Epoch: 120/999 | Loss: 0.0010 | Episodes: 43 | Win count: 80 | Win rate: 0.938 | time: 10.84 minutes\n",
      "Epoch: 121/999 | Loss: 0.0008 | Episodes: 31 | Win count: 81 | Win rate: 0.938 | time: 10.88 minutes\n",
      "Epoch: 122/999 | Loss: 0.0011 | Episodes: 2 | Win count: 82 | Win rate: 0.938 | time: 10.88 minutes\n",
      "Epoch: 123/999 | Loss: 0.0011 | Episodes: 18 | Win count: 83 | Win rate: 0.938 | time: 10.90 minutes\n",
      "Epoch: 124/999 | Loss: 0.0011 | Episodes: 27 | Win count: 84 | Win rate: 0.938 | time: 10.93 minutes\n",
      "Epoch: 125/999 | Loss: 0.0006 | Episodes: 16 | Win count: 85 | Win rate: 0.938 | time: 10.95 minutes\n",
      "Epoch: 126/999 | Loss: 0.0008 | Episodes: 32 | Win count: 86 | Win rate: 0.938 | time: 10.99 minutes\n",
      "Epoch: 127/999 | Loss: 0.0008 | Episodes: 18 | Win count: 87 | Win rate: 0.938 | time: 11.02 minutes\n",
      "Epoch: 128/999 | Loss: 0.0002 | Episodes: 24 | Win count: 88 | Win rate: 0.938 | time: 11.05 minutes\n",
      "Epoch: 129/999 | Loss: 0.0009 | Episodes: 31 | Win count: 89 | Win rate: 0.938 | time: 11.09 minutes\n",
      "Epoch: 130/999 | Loss: 0.0015 | Episodes: 8 | Win count: 90 | Win rate: 0.938 | time: 11.09 minutes\n",
      "Epoch: 131/999 | Loss: 0.0004 | Episodes: 18 | Win count: 91 | Win rate: 0.938 | time: 11.11 minutes\n",
      "Epoch: 132/999 | Loss: 0.0010 | Episodes: 9 | Win count: 92 | Win rate: 0.938 | time: 11.12 minutes\n",
      "Epoch: 133/999 | Loss: 0.0003 | Episodes: 7 | Win count: 93 | Win rate: 0.938 | time: 11.13 minutes\n",
      "Epoch: 134/999 | Loss: 0.0007 | Episodes: 36 | Win count: 94 | Win rate: 0.938 | time: 11.16 minutes\n",
      "Epoch: 135/999 | Loss: 0.0010 | Episodes: 8 | Win count: 95 | Win rate: 0.938 | time: 11.17 minutes\n",
      "Epoch: 136/999 | Loss: 0.0008 | Episodes: 37 | Win count: 96 | Win rate: 0.938 | time: 11.21 minutes\n",
      "Epoch: 137/999 | Loss: 0.0011 | Episodes: 18 | Win count: 97 | Win rate: 0.938 | time: 11.23 minutes\n",
      "Epoch: 138/999 | Loss: 0.0014 | Episodes: 46 | Win count: 98 | Win rate: 0.938 | time: 11.28 minutes\n",
      "Epoch: 139/999 | Loss: 0.0009 | Episodes: 2 | Win count: 99 | Win rate: 0.969 | time: 11.29 minutes\n",
      "Epoch: 140/999 | Loss: 0.0011 | Episodes: 5 | Win count: 100 | Win rate: 1.000 | time: 11.29 minutes\n",
      "Epoch: 141/999 | Loss: 0.0008 | Episodes: 24 | Win count: 101 | Win rate: 1.000 | time: 11.36 minutes\n",
      "Epoch: 142/999 | Loss: 0.0011 | Episodes: 5 | Win count: 102 | Win rate: 1.000 | time: 11.40 minutes\n",
      "Epoch: 143/999 | Loss: 0.0016 | Episodes: 8 | Win count: 103 | Win rate: 1.000 | time: 11.46 minutes\n",
      "Epoch: 144/999 | Loss: 0.0012 | Episodes: 82 | Win count: 104 | Win rate: 1.000 | time: 11.60 minutes\n",
      "Epoch: 145/999 | Loss: 0.0010 | Episodes: 40 | Win count: 105 | Win rate: 1.000 | time: 11.69 minutes\n",
      "Epoch: 146/999 | Loss: 0.0013 | Episodes: 16 | Win count: 106 | Win rate: 1.000 | time: 11.75 minutes\n",
      "Epoch: 147/999 | Loss: 0.0010 | Episodes: 82 | Win count: 107 | Win rate: 1.000 | time: 11.91 minutes\n",
      "Epoch: 148/999 | Loss: 0.0009 | Episodes: 19 | Win count: 108 | Win rate: 1.000 | time: 11.98 minutes\n",
      "Epoch: 149/999 | Loss: 0.0018 | Episodes: 21 | Win count: 109 | Win rate: 1.000 | time: 12.04 minutes\n",
      "Epoch: 150/999 | Loss: 0.0016 | Episodes: 25 | Win count: 110 | Win rate: 1.000 | time: 12.13 minutes\n",
      "Epoch: 151/999 | Loss: 0.0016 | Episodes: 1 | Win count: 111 | Win rate: 1.000 | time: 12.18 minutes\n",
      "Epoch: 152/999 | Loss: 0.0007 | Episodes: 27 | Win count: 112 | Win rate: 1.000 | time: 12.27 minutes\n",
      "Epoch: 153/999 | Loss: 0.0011 | Episodes: 18 | Win count: 113 | Win rate: 1.000 | time: 12.34 minutes\n",
      "Epoch: 154/999 | Loss: 0.0007 | Episodes: 29 | Win count: 114 | Win rate: 1.000 | time: 12.42 minutes\n",
      "Epoch: 155/999 | Loss: 0.0009 | Episodes: 20 | Win count: 115 | Win rate: 1.000 | time: 12.48 minutes\n",
      "Epoch: 156/999 | Loss: 0.0006 | Episodes: 34 | Win count: 116 | Win rate: 1.000 | time: 12.57 minutes\n",
      "Epoch: 157/999 | Loss: 0.0012 | Episodes: 23 | Win count: 117 | Win rate: 1.000 | time: 12.64 minutes\n",
      "Epoch: 158/999 | Loss: 0.0005 | Episodes: 37 | Win count: 118 | Win rate: 1.000 | time: 12.73 minutes\n",
      "Epoch: 159/999 | Loss: 0.0005 | Episodes: 2 | Win count: 119 | Win rate: 1.000 | time: 12.77 minutes\n",
      "Epoch: 160/999 | Loss: 0.0005 | Episodes: 33 | Win count: 120 | Win rate: 1.000 | time: 12.85 minutes\n",
      "Epoch: 161/999 | Loss: 0.0006 | Episodes: 16 | Win count: 121 | Win rate: 1.000 | time: 12.92 minutes\n",
      "Epoch: 162/999 | Loss: 0.0021 | Episodes: 13 | Win count: 122 | Win rate: 1.000 | time: 12.99 minutes\n",
      "Epoch: 163/999 | Loss: 0.0015 | Episodes: 27 | Win count: 123 | Win rate: 1.000 | time: 13.07 minutes\n"
     ]
    },
    {
     "name": "stdout",
     "output_type": "stream",
     "text": [
      "Epoch: 164/999 | Loss: 0.0009 | Episodes: 10 | Win count: 124 | Win rate: 1.000 | time: 13.14 minutes\n",
      "Epoch: 165/999 | Loss: 0.0011 | Episodes: 33 | Win count: 125 | Win rate: 1.000 | time: 13.23 minutes\n",
      "Epoch: 166/999 | Loss: 0.0010 | Episodes: 46 | Win count: 126 | Win rate: 1.000 | time: 13.34 minutes\n",
      "Epoch: 167/999 | Loss: 0.0009 | Episodes: 2 | Win count: 127 | Win rate: 1.000 | time: 13.38 minutes\n",
      "Epoch: 168/999 | Loss: 0.0006 | Episodes: 31 | Win count: 128 | Win rate: 1.000 | time: 13.46 minutes\n",
      "Epoch: 169/999 | Loss: 0.0010 | Episodes: 20 | Win count: 129 | Win rate: 1.000 | time: 13.54 minutes\n",
      "Epoch: 170/999 | Loss: 0.0007 | Episodes: 5 | Win count: 130 | Win rate: 1.000 | time: 13.61 minutes\n",
      "Epoch: 171/999 | Loss: 0.0009 | Episodes: 21 | Win count: 131 | Win rate: 1.000 | time: 13.79 minutes\n",
      "Epoch: 172/999 | Loss: 0.0002 | Episodes: 50 | Win count: 132 | Win rate: 1.000 | time: 13.99 minutes\n",
      "Epoch: 173/999 | Loss: 0.0009 | Episodes: 69 | Win count: 133 | Win rate: 1.000 | time: 14.21 minutes\n",
      "Epoch: 174/999 | Loss: 0.0008 | Episodes: 26 | Win count: 134 | Win rate: 1.000 | time: 14.38 minutes\n",
      "Epoch: 175/999 | Loss: 0.0003 | Episodes: 29 | Win count: 135 | Win rate: 1.000 | time: 14.60 minutes\n",
      "Epoch: 176/999 | Loss: 0.0009 | Episodes: 2 | Win count: 136 | Win rate: 1.000 | time: 14.66 minutes\n",
      "Epoch: 177/999 | Loss: 0.0011 | Episodes: 1 | Win count: 137 | Win rate: 1.000 | time: 14.71 minutes\n",
      "Epoch: 178/999 | Loss: 0.0010 | Episodes: 65 | Win count: 138 | Win rate: 1.000 | time: 14.86 minutes\n",
      "Epoch: 179/999 | Loss: 0.0008 | Episodes: 19 | Win count: 139 | Win rate: 1.000 | time: 15.09 minutes\n",
      "Epoch: 180/999 | Loss: 0.0011 | Episodes: 19 | Win count: 140 | Win rate: 1.000 | time: 15.18 minutes\n",
      "Epoch: 181/999 | Loss: 0.0006 | Episodes: 30 | Win count: 141 | Win rate: 1.000 | time: 15.28 minutes\n",
      "Epoch: 182/999 | Loss: 0.0011 | Episodes: 31 | Win count: 142 | Win rate: 1.000 | time: 15.37 minutes\n",
      "Epoch: 183/999 | Loss: 0.0004 | Episodes: 43 | Win count: 143 | Win rate: 1.000 | time: 15.65 minutes\n",
      "Epoch: 184/999 | Loss: 0.0011 | Episodes: 17 | Win count: 144 | Win rate: 1.000 | time: 15.72 minutes\n",
      "Epoch: 185/999 | Loss: 0.0004 | Episodes: 46 | Win count: 145 | Win rate: 1.000 | time: 15.83 minutes\n",
      "Epoch: 186/999 | Loss: 0.0008 | Episodes: 11 | Win count: 146 | Win rate: 1.000 | time: 15.90 minutes\n",
      "Epoch: 187/999 | Loss: 0.0004 | Episodes: 11 | Win count: 147 | Win rate: 1.000 | time: 15.98 minutes\n",
      "Epoch: 188/999 | Loss: 0.0011 | Episodes: 26 | Win count: 148 | Win rate: 1.000 | time: 16.07 minutes\n",
      "Epoch: 189/999 | Loss: 0.0006 | Episodes: 13 | Win count: 149 | Win rate: 1.000 | time: 16.14 minutes\n",
      "Epoch: 190/999 | Loss: 0.0014 | Episodes: 23 | Win count: 150 | Win rate: 1.000 | time: 16.22 minutes\n",
      "Epoch: 191/999 | Loss: 0.0010 | Episodes: 6 | Win count: 151 | Win rate: 1.000 | time: 16.28 minutes\n",
      "Epoch: 192/999 | Loss: 0.0009 | Episodes: 19 | Win count: 152 | Win rate: 1.000 | time: 16.36 minutes\n",
      "Epoch: 193/999 | Loss: 0.0006 | Episodes: 27 | Win count: 153 | Win rate: 1.000 | time: 16.47 minutes\n",
      "Epoch: 194/999 | Loss: 0.0009 | Episodes: 49 | Win count: 154 | Win rate: 1.000 | time: 16.60 minutes\n",
      "Epoch: 195/999 | Loss: 0.0009 | Episodes: 10 | Win count: 155 | Win rate: 1.000 | time: 16.67 minutes\n",
      "Epoch: 196/999 | Loss: 0.0011 | Episodes: 12 | Win count: 156 | Win rate: 1.000 | time: 16.76 minutes\n",
      "Epoch: 197/999 | Loss: 0.0006 | Episodes: 10 | Win count: 157 | Win rate: 1.000 | time: 16.83 minutes\n",
      "Epoch: 198/999 | Loss: 0.0004 | Episodes: 59 | Win count: 158 | Win rate: 1.000 | time: 16.98 minutes\n",
      "Epoch: 199/999 | Loss: 0.0012 | Episodes: 29 | Win count: 159 | Win rate: 1.000 | time: 17.09 minutes\n",
      "Epoch: 200/999 | Loss: 0.0008 | Episodes: 26 | Win count: 160 | Win rate: 1.000 | time: 17.19 minutes\n",
      "Epoch: 201/999 | Loss: 0.0003 | Episodes: 34 | Win count: 161 | Win rate: 1.000 | time: 17.30 minutes\n",
      "Epoch: 202/999 | Loss: 0.0012 | Episodes: 4 | Win count: 162 | Win rate: 1.000 | time: 17.36 minutes\n",
      "Epoch: 203/999 | Loss: 0.0006 | Episodes: 3 | Win count: 163 | Win rate: 1.000 | time: 17.43 minutes\n",
      "Epoch: 204/999 | Loss: 0.0002 | Episodes: 3 | Win count: 164 | Win rate: 1.000 | time: 17.78 minutes\n",
      "Epoch: 205/999 | Loss: 0.0006 | Episodes: 3 | Win count: 165 | Win rate: 1.000 | time: 17.85 minutes\n",
      "Epoch: 206/999 | Loss: 0.0007 | Episodes: 30 | Win count: 166 | Win rate: 1.000 | time: 17.94 minutes\n",
      "Epoch: 207/999 | Loss: 0.0011 | Episodes: 1 | Win count: 167 | Win rate: 1.000 | time: 17.99 minutes\n",
      "Epoch: 208/999 | Loss: 0.0007 | Episodes: 21 | Win count: 168 | Win rate: 1.000 | time: 18.09 minutes\n",
      "Epoch: 209/999 | Loss: 0.0003 | Episodes: 21 | Win count: 169 | Win rate: 1.000 | time: 18.18 minutes\n",
      "Epoch: 210/999 | Loss: 0.0004 | Episodes: 21 | Win count: 170 | Win rate: 1.000 | time: 18.28 minutes\n",
      "Epoch: 211/999 | Loss: 0.0004 | Episodes: 26 | Win count: 171 | Win rate: 1.000 | time: 18.36 minutes\n",
      "Epoch: 212/999 | Loss: 0.0003 | Episodes: 23 | Win count: 172 | Win rate: 1.000 | time: 18.44 minutes\n",
      "Epoch: 213/999 | Loss: 0.0008 | Episodes: 31 | Win count: 173 | Win rate: 1.000 | time: 18.52 minutes\n",
      "Epoch: 214/999 | Loss: 0.0006 | Episodes: 56 | Win count: 174 | Win rate: 1.000 | time: 18.84 minutes\n",
      "Epoch: 215/999 | Loss: 0.0002 | Episodes: 2 | Win count: 175 | Win rate: 1.000 | time: 19.15 minutes\n",
      "Epoch: 216/999 | Loss: 0.0008 | Episodes: 23 | Win count: 176 | Win rate: 1.000 | time: 19.40 minutes\n",
      "Epoch: 217/999 | Loss: 0.0004 | Episodes: 10 | Win count: 177 | Win rate: 1.000 | time: 19.45 minutes\n",
      "Epoch: 218/999 | Loss: 0.0004 | Episodes: 29 | Win count: 178 | Win rate: 1.000 | time: 19.72 minutes\n",
      "Epoch: 219/999 | Loss: 0.0006 | Episodes: 32 | Win count: 179 | Win rate: 1.000 | time: 20.04 minutes\n",
      "Epoch: 220/999 | Loss: 0.0003 | Episodes: 19 | Win count: 180 | Win rate: 1.000 | time: 20.24 minutes\n",
      "Epoch: 221/999 | Loss: 0.0005 | Episodes: 24 | Win count: 181 | Win rate: 1.000 | time: 20.62 minutes\n",
      "Epoch: 222/999 | Loss: 0.0001 | Episodes: 29 | Win count: 182 | Win rate: 1.000 | time: 20.78 minutes\n",
      "Epoch: 223/999 | Loss: 0.0005 | Episodes: 2 | Win count: 183 | Win rate: 1.000 | time: 21.12 minutes\n",
      "Epoch: 224/999 | Loss: 0.0001 | Episodes: 12 | Win count: 184 | Win rate: 1.000 | time: 21.36 minutes\n",
      "Epoch: 225/999 | Loss: 0.0008 | Episodes: 2 | Win count: 185 | Win rate: 1.000 | time: 21.40 minutes\n",
      "Epoch: 226/999 | Loss: 0.0002 | Episodes: 4 | Win count: 186 | Win rate: 1.000 | time: 21.45 minutes\n",
      "Epoch: 227/999 | Loss: 0.0001 | Episodes: 1 | Win count: 187 | Win rate: 1.000 | time: 21.56 minutes\n",
      "Epoch: 228/999 | Loss: 0.0002 | Episodes: 11 | Win count: 188 | Win rate: 1.000 | time: 21.68 minutes\n",
      "Epoch: 229/999 | Loss: 0.0009 | Episodes: 14 | Win count: 189 | Win rate: 1.000 | time: 22.08 minutes\n",
      "Epoch: 230/999 | Loss: 0.0002 | Episodes: 13 | Win count: 190 | Win rate: 1.000 | time: 22.36 minutes\n",
      "Epoch: 231/999 | Loss: 0.0002 | Episodes: 17 | Win count: 191 | Win rate: 1.000 | time: 22.45 minutes\n",
      "Epoch: 232/999 | Loss: 0.0005 | Episodes: 22 | Win count: 192 | Win rate: 1.000 | time: 22.53 minutes\n",
      "Epoch: 233/999 | Loss: 0.0001 | Episodes: 13 | Win count: 193 | Win rate: 1.000 | time: 22.93 minutes\n",
      "Epoch: 234/999 | Loss: 0.0001 | Episodes: 24 | Win count: 194 | Win rate: 1.000 | time: 23.39 minutes\n",
      "Epoch: 235/999 | Loss: 0.0004 | Episodes: 25 | Win count: 195 | Win rate: 1.000 | time: 23.49 minutes\n",
      "Epoch: 236/999 | Loss: 0.0004 | Episodes: 10 | Win count: 196 | Win rate: 1.000 | time: 23.56 minutes\n",
      "Epoch: 237/999 | Loss: 0.0003 | Episodes: 13 | Win count: 197 | Win rate: 1.000 | time: 23.65 minutes\n",
      "Reached 100% win rate at epoch 237\n",
      "Training complete in: 24.01 minutes\n"
     ]
    }
   ],
   "source": [
    "model = build_model(maze)\n",
    "qtrain(model, maze, n_epoch=1000, max_memory=8*maze.size, data_size=32, target_update_freq=50)"
   ]
  },
  {
   "cell_type": "markdown",
   "metadata": {},
   "source": [
    "This cell will check to see if the model passes the completion check. Note: This could take several minutes."
   ]
  },
  {
   "cell_type": "code",
   "execution_count": 52,
   "metadata": {},
   "outputs": [
    {
     "data": {
      "text/plain": [
       "<matplotlib.image.AxesImage at 0x7d694744e090>"
      ]
     },
     "execution_count": 52,
     "metadata": {},
     "output_type": "execute_result"
    },
    {
     "data": {
      "image/png": "[encoded data removed]",
      "text/plain": [
       "<Figure size 640x480 with 1 Axes>"
      ]
     },
     "metadata": {},
     "output_type": "display_data"
    }
   ],
   "source": [
    "completion_check(model, qmaze)\n",
    "show(qmaze)"
   ]
  },
  {
   "cell_type": "markdown",
   "metadata": {},
   "source": [
    "This cell will test your model for one game. It will start the pirate at the top-left corner and run <b>play_game()</b>. The agent should find a path from the starting position to the target (treasure). The treasure is located in the bottom-right corner."
   ]
  },
  {
   "cell_type": "code",
   "execution_count": 53,
   "metadata": {},
   "outputs": [
    {
     "data": {
      "text/plain": [
       "<matplotlib.image.AxesImage at 0x7d694728a250>"
      ]
     },
     "execution_count": 53,
     "metadata": {},
     "output_type": "execute_result"
    },
    {
     "data": {
      "image/png": "[encoded data removed]",
      "text/plain": [
       "<Figure size 640x480 with 1 Axes>"
      ]
     },
     "metadata": {},
     "output_type": "display_data"
    }
   ],
   "source": [
    "pirate_start = (0, 0)\n",
    "play_game(model, qmaze, pirate_start)\n",
    "show(qmaze)"
   ]
  },
  {
   "cell_type": "markdown",
   "metadata": {},
   "source": [
    "## Save and Submit Your Work\n",
    "After you have finished creating the code for your notebook, save your work.\n",
    "Make sure that your notebook contains your name in the filename (e.g. Doe_Jane_ProjectTwo.html). Download this file as an .html file clicking on ***file*** in *Jupyter Notebook*, navigating down to ***Download as*** and clicking on ***.html***. \n",
    "Download a copy of your .html file and submit it to Brightspace."
   ]
  }
 ],
 "metadata": {
  "kernelspec": {
   "display_name": "Python 3 (ipykernel)",
   "language": "python",
   "name": "python3"
  },
  "language_info": {
   "codemirror_mode": {
    "name": "ipython",
    "version": 3
   },
   "file_extension": ".py",
   "mimetype": "text/x-python",
   "name": "python",
   "nbconvert_exporter": "python",
   "pygments_lexer": "ipython3",
   "version": "3.11.2"
  }
 },
 "nbformat": 4,
 "nbformat_minor": 2
}
